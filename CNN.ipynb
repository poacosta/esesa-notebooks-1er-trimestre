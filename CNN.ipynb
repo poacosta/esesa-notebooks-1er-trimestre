{
 "cells": [
  {
   "cell_type": "markdown",
   "id": "6b650609-2497-4169-9110-fb4a09284f89",
   "metadata": {},
   "source": [
    "# CNN News"
   ]
  },
  {
   "cell_type": "markdown",
   "id": "07e2bd0d-41ee-425f-95f7-65bc1608a2d6",
   "metadata": {},
   "source": [
    "* **Dataset**: https://www.kaggle.com/datasets/gowrishankarp/newspaper-text-summarization-cnn-dailymail"
   ]
  },
  {
   "cell_type": "markdown",
   "id": "6efe3156-1ce2-4357-90a5-ef7393ba1d2e",
   "metadata": {},
   "source": [
    "## Importar dependencias"
   ]
  },
  {
   "cell_type": "code",
   "execution_count": 1,
   "id": "4456691d-ff2a-4369-9fc0-bda348c3d9dd",
   "metadata": {},
   "outputs": [
    {
     "name": "stderr",
     "output_type": "stream",
     "text": [
      "2025-02-04 00:18:56.120735: E external/local_xla/xla/stream_executor/cuda/cuda_fft.cc:477] Unable to register cuFFT factory: Attempting to register factory for plugin cuFFT when one has already been registered\n",
      "WARNING: All log messages before absl::InitializeLog() is called are written to STDERR\n",
      "E0000 00:00:1738624736.136427  224959 cuda_dnn.cc:8310] Unable to register cuDNN factory: Attempting to register factory for plugin cuDNN when one has already been registered\n",
      "E0000 00:00:1738624736.141201  224959 cuda_blas.cc:1418] Unable to register cuBLAS factory: Attempting to register factory for plugin cuBLAS when one has already been registered\n",
      "2025-02-04 00:18:56.157988: I tensorflow/core/platform/cpu_feature_guard.cc:210] This TensorFlow binary is optimized to use available CPU instructions in performance-critical operations.\n",
      "To enable the following instructions: AVX2 FMA, in other operations, rebuild TensorFlow with the appropriate compiler flags.\n"
     ]
    }
   ],
   "source": [
    "import os\n",
    "import tensorflow as tf\n",
    "import tensorflow_hub as hub\n",
    "import tensorflow_text as text\n",
    "import numpy as np\n",
    "import pandas as pd\n",
    "from sklearn.cluster import KMeans\n",
    "import matplotlib.pyplot as plt\n",
    "import seaborn as sns\n",
    "from tqdm import tqdm\n",
    "import logging"
   ]
  },
  {
   "cell_type": "markdown",
   "id": "c0ae9809-640d-4d2a-bcea-b6cea0594d27",
   "metadata": {},
   "source": [
    "### Configuración"
   ]
  },
  {
   "cell_type": "code",
   "execution_count": 2,
   "id": "25041305-7ef9-4520-b19e-ca4ce9b4bcb4",
   "metadata": {},
   "outputs": [],
   "source": [
    "logging.basicConfig(level=logging.INFO)\n",
    "tf.random.set_seed(42)\n",
    "np.random.seed(42)\n",
    "data = '../datasets/cnn/train-1.csv'"
   ]
  },
  {
   "cell_type": "markdown",
   "id": "c9fd8122-f294-4efb-a0b0-4fa9ad6c5b39",
   "metadata": {},
   "source": [
    "## Explorando datos"
   ]
  },
  {
   "cell_type": "code",
   "execution_count": 3,
   "id": "b373e946-ea2d-4f00-923c-c8ddf8a2a018",
   "metadata": {},
   "outputs": [
    {
     "data": {
      "text/plain": [
       "(50000, 3)"
      ]
     },
     "execution_count": 3,
     "metadata": {},
     "output_type": "execute_result"
    }
   ],
   "source": [
    "news_df = pd.read_csv(data)\n",
    "news_df.shape"
   ]
  },
  {
   "cell_type": "markdown",
   "id": "822ed254-4fab-46ff-9257-94a877301b05",
   "metadata": {},
   "source": [
    "### Detectando columnas vacías"
   ]
  },
  {
   "cell_type": "code",
   "execution_count": 4,
   "id": "42f7758d-1064-4f61-8123-039a72769f28",
   "metadata": {},
   "outputs": [
    {
     "name": "stdout",
     "output_type": "stream",
     "text": [
      "id            0\n",
      "article       0\n",
      "highlights    0\n",
      "dtype: int64\n"
     ]
    }
   ],
   "source": [
    "print(news_df.isnull().sum())"
   ]
  },
  {
   "cell_type": "markdown",
   "id": "eb2a415c-4e06-4035-a523-9dbf7bce1b50",
   "metadata": {},
   "source": [
    "### Definiendo columna objetivo"
   ]
  },
  {
   "cell_type": "code",
   "execution_count": 5,
   "id": "59e47419-28fd-44d9-ba94-5cebf6af7590",
   "metadata": {},
   "outputs": [],
   "source": [
    "texts = news_df['highlights'].values"
   ]
  },
  {
   "cell_type": "markdown",
   "id": "d0d303e7-18e0-4d75-976b-a59b2e7d1225",
   "metadata": {},
   "source": [
    "## Estableciendo el modelo"
   ]
  },
  {
   "cell_type": "code",
   "execution_count": 6,
   "id": "5f212b27-c263-4409-b05c-e2033d3d180f",
   "metadata": {},
   "outputs": [],
   "source": [
    "def initialize_bert_model():\n",
    "    bert_preprocess = hub.load('https://tfhub.dev/tensorflow/bert_en_uncased_preprocess/3')\n",
    "    bert_encoder = hub.load('https://tfhub.dev/tensorflow/bert_en_uncased_L-12_H-768_A-12/4')\n",
    "    \n",
    "    return bert_preprocess, bert_encoder"
   ]
  },
  {
   "cell_type": "code",
   "execution_count": 7,
   "id": "02d2fb90-ac2d-4c4b-828f-bf5dd0d35545",
   "metadata": {},
   "outputs": [
    {
     "name": "stderr",
     "output_type": "stream",
     "text": [
      "INFO:absl:Using /tmp/tfhub_modules to cache modules.\n",
      "I0000 00:00:1738624747.787662  224959 gpu_device.cc:2022] Created device /job:localhost/replica:0/task:0/device:GPU:0 with 1709 MB memory:  -> device: 0, name: NVIDIA GeForce GTX 1060, pci bus id: 0000:01:00.0, compute capability: 6.1\n",
      "INFO:absl:Fingerprint not found. Saved model loading will continue.\n",
      "INFO:absl:path_and_singleprint metric could not be logged. Saved model loading will continue.\n",
      "INFO:absl:Fingerprint not found. Saved model loading will continue.\n",
      "INFO:absl:path_and_singleprint metric could not be logged. Saved model loading will continue.\n"
     ]
    }
   ],
   "source": [
    "bert_preprocess, bert_encoder = initialize_bert_model()"
   ]
  },
  {
   "cell_type": "markdown",
   "id": "7f4dad78-0ad9-4229-a4de-6522e60e6c70",
   "metadata": {},
   "source": [
    "## Preparando embeddings"
   ]
  },
  {
   "cell_type": "code",
   "execution_count": 8,
   "id": "3d412db2-d41d-4d05-8ee6-a041392b9c8a",
   "metadata": {},
   "outputs": [],
   "source": [
    "def generate_embeddings(texts, preprocess, encoder, batch_size=64):\n",
    "    embeddings = []\n",
    "    \n",
    "    for i in range(0, len(texts), batch_size):\n",
    "        batch = texts[i:i + batch_size]\n",
    "        encoder_inputs = preprocess(batch)\n",
    "        outputs = encoder(encoder_inputs)\n",
    "        embeddings.append(outputs['pooled_output'])\n",
    "        \n",
    "    return tf.concat(embeddings, axis=0)"
   ]
  },
  {
   "cell_type": "code",
   "execution_count": 9,
   "id": "ee61b15e-d28f-409b-ad27-d5506a689f5b",
   "metadata": {},
   "outputs": [],
   "source": [
    "embeddings = generate_embeddings(texts, bert_preprocess, bert_encoder)"
   ]
  },
  {
   "cell_type": "markdown",
   "id": "1500d297-cf17-41c8-a69f-663585164658",
   "metadata": {},
   "source": [
    "## Identificando tópicos y palabras representativas"
   ]
  },
  {
   "cell_type": "code",
   "execution_count": 10,
   "id": "195fa211-33ed-4dcf-8baf-436c166f771f",
   "metadata": {},
   "outputs": [],
   "source": [
    "from sklearn.decomposition import PCA\n",
    "from sklearn.feature_extraction.text import TfidfVectorizer\n",
    "import numpy as np\n",
    "\n",
    "def extract_pca_topics(texts, embeddings, n_components=5, n_keywords=10):\n",
    "    if tf.is_tensor(embeddings):\n",
    "        embeddings = embeddings.numpy()\n",
    "    \n",
    "    pca = PCA(n_components=n_components)\n",
    "    pca_result = pca.fit_transform(embeddings)\n",
    "    \n",
    "    vectorizer = TfidfVectorizer(max_features=768, stop_words='english')\n",
    "    tfidf_matrix = vectorizer.fit_transform(texts)\n",
    "    feature_names = vectorizer.get_feature_names_out()\n",
    "    \n",
    "    topics_keywords = {}\n",
    "    for topic_idx in range(n_components):\n",
    "        weights = pca.components_[topic_idx]\n",
    "        top_idx = np.abs(weights).argsort()[-n_keywords:][::-1]\n",
    "        topics_keywords[topic_idx] = [feature_names[i] for i in top_idx]\n",
    "    \n",
    "    return topics_keywords, pca_result, pca"
   ]
  },
  {
   "cell_type": "code",
   "execution_count": 11,
   "id": "560832c8-29e2-49e1-8796-ccd1b6c33200",
   "metadata": {},
   "outputs": [
    {
     "data": {
      "text/plain": [
       "{0: ['different',\n",
       "  'striker',\n",
       "  'faces',\n",
       "  'team',\n",
       "  'training',\n",
       "  'taken',\n",
       "  'safety',\n",
       "  'meet',\n",
       "  'judge',\n",
       "  'goal'],\n",
       " 1: ['different',\n",
       "  'team',\n",
       "  'news',\n",
       "  'judge',\n",
       "  'training',\n",
       "  'don',\n",
       "  'manager',\n",
       "  '2013',\n",
       "  'drug',\n",
       "  'old'],\n",
       " 2: ['right',\n",
       "  'face',\n",
       "  'evidence',\n",
       "  'victim',\n",
       "  'church',\n",
       "  'year',\n",
       "  'august',\n",
       "  'military',\n",
       "  'news',\n",
       "  'research'],\n",
       " 3: ['different',\n",
       "  'church',\n",
       "  'victim',\n",
       "  'manager',\n",
       "  'evidence',\n",
       "  'homes',\n",
       "  'face',\n",
       "  'research',\n",
       "  'taking',\n",
       "  'based'],\n",
       " 4: ['working',\n",
       "  'premier',\n",
       "  'south',\n",
       "  'based',\n",
       "  'taking',\n",
       "  'road',\n",
       "  'worked',\n",
       "  'church',\n",
       "  'face',\n",
       "  'claimed']}"
      ]
     },
     "execution_count": 11,
     "metadata": {},
     "output_type": "execute_result"
    }
   ],
   "source": [
    "topics_keywords, pca_result, pca_model = extract_pca_topics(texts, embeddings)\n",
    "topics_keywords"
   ]
  },
  {
   "cell_type": "markdown",
   "id": "03f73acc-d4a5-4f43-92cb-ddd2c45189f7",
   "metadata": {},
   "source": [
    "## Clasificando información en base a los tópicos encontrados"
   ]
  },
  {
   "cell_type": "code",
   "execution_count": 38,
   "id": "672e94cd-d938-4086-95a7-bf1f2f66ae8e",
   "metadata": {},
   "outputs": [],
   "source": [
    "def classify_topic(embedding, pca, topics_keywords, threshold=0.7):\n",
    "    if tf.is_tensor(embedding):\n",
    "        embedding = embedding.numpy()\n",
    "    \n",
    "    topic_vector = pca.transform(embedding.reshape(1, -1))[0]\n",
    "    component_magnitudes = np.abs(topic_vector)\n",
    "    top_topic_idx = np.argmax(component_magnitudes)\n",
    "    confidence = float(component_magnitudes[top_topic_idx] / np.sum(component_magnitudes))\n",
    "    \n",
    "    if confidence < threshold:\n",
    "        return None\n",
    "        \n",
    "    return {\n",
    "        'topic_id': int(top_topic_idx),\n",
    "        'confidence': confidence,\n",
    "        'keywords': topics_keywords[top_topic_idx]\n",
    "    }"
   ]
  },
  {
   "cell_type": "code",
   "execution_count": 39,
   "id": "af647974-a3e3-4f56-9d19-9ebc0f7e9f32",
   "metadata": {},
   "outputs": [],
   "source": [
    "topics = []\n",
    "for embedding in embeddings:\n",
    "    result = classify_topic(embedding, pca_model, topics_keywords)\n",
    "    results.append(result)"
   ]
  },
  {
   "cell_type": "code",
   "execution_count": 40,
   "id": "2803b336-50ea-4dfe-8779-8d9f381dab66",
   "metadata": {
    "scrolled": true
   },
   "outputs": [],
   "source": [
    "topics = list(filter(None, results))"
   ]
  },
  {
   "cell_type": "code",
   "execution_count": 61,
   "id": "76c49bb0-587e-461a-bc29-67a63d54d4d8",
   "metadata": {},
   "outputs": [],
   "source": [
    "def predict_topic(text, bert_preprocess, bert_encoder, pca, topics_keywords, threshold=0.5):\n",
    "    encoder_inputs = bert_preprocess([text])\n",
    "    outputs = bert_encoder(encoder_inputs)\n",
    "    embedding = outputs['pooled_output']\n",
    "    \n",
    "    if tf.is_tensor(embedding):\n",
    "        embedding = embedding.numpy()\n",
    "    \n",
    "    print(f\"Original embedding shape: {embedding.shape}\")\n",
    "    \n",
    "    if len(embedding.shape) == 2:\n",
    "        embedding_2d = embedding\n",
    "    else:\n",
    "        embedding_2d = embedding.reshape(1, -1)\n",
    "    \n",
    "    print(f\"Reshaped embedding: {embedding_2d.shape}\")\n",
    "    \n",
    "    topic_vector = pca.transform(embedding_2d)[0]\n",
    "    print(f\"PCA transformed shape: {topic_vector.shape}\")\n",
    "    \n",
    "    magnitudes = np.abs(topic_vector)\n",
    "    print(f\"Magnitudes: {magnitudes}\")\n",
    "    \n",
    "    top_topic_idx = np.argmax(magnitudes)\n",
    "    confidence = float(magnitudes[top_topic_idx] / np.sum(magnitudes))\n",
    "    \n",
    "    print(f\"Top topic: {top_topic_idx}\")\n",
    "    print(f\"Confidence: {confidence}\")\n",
    "    \n",
    "    if confidence < threshold:\n",
    "        return None\n",
    "        \n",
    "    return {\n",
    "        'topic_id': int(top_topic_idx),\n",
    "        'confidence': confidence,\n",
    "        'keywords': topics_keywords[top_topic_idx]}"
   ]
  },
  {
   "cell_type": "code",
   "execution_count": 62,
   "id": "82236536-1973-46f9-a89a-ff6d7599459e",
   "metadata": {},
   "outputs": [
    {
     "name": "stdout",
     "output_type": "stream",
     "text": [
      "Original embedding shape: (1, 768)\n",
      "Reshaped embedding: (1, 768)\n",
      "PCA transformed shape: (5,)\n",
      "Magnitudes: [4.9501734  2.02143    1.5693636  0.29183888 0.1684444 ]\n",
      "Top topic: 0\n",
      "Confidence: 0.5499428510665894\n",
      "Topic: 0\n",
      "Confidence: 0.55\n",
      "Keywords: different, striker, faces, team, training, taken, safety, meet, judge, goal\n"
     ]
    }
   ],
   "source": [
    "new_text = \"Las Vegas police update policy on working with ICE.\"\n",
    "result = predict_topic(new_text, bert_preprocess, bert_encoder, pca_model, topics_keywords)\n",
    "\n",
    "if result:\n",
    "    print(f\"Topic: {result['topic_id']}\")\n",
    "    print(f\"Confidence: {result['confidence']:.2f}\")\n",
    "    print(f\"Keywords: {', '.join(result['keywords'])}\")"
   ]
  }
 ],
 "metadata": {
  "kernelspec": {
   "display_name": "Python 3 (ipykernel)",
   "language": "python",
   "name": "python3"
  },
  "language_info": {
   "codemirror_mode": {
    "name": "ipython",
    "version": 3
   },
   "file_extension": ".py",
   "mimetype": "text/x-python",
   "name": "python",
   "nbconvert_exporter": "python",
   "pygments_lexer": "ipython3",
   "version": "3.12.3"
  }
 },
 "nbformat": 4,
 "nbformat_minor": 5
}
