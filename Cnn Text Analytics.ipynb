{
 "cells": [
  {
   "cell_type": "code",
   "execution_count": 24,
   "id": "b18cf1ab",
   "metadata": {},
   "outputs": [],
   "source": [
    "import pandas as pd\n",
    "import matplotlib.pyplot as plt\n",
    "import seaborn as sns\n",
    "import nltk\n",
    "import string\n",
    "from collections import Counter\n",
    "from nltk.corpus import stopwords\n",
    "from nltk.tokenize import word_tokenize\n",
    "from keras.models import Sequential\n",
    "from keras.layers import Embedding, LSTM, Dense, SpatialDropout1D"
   ]
  },
  {
   "cell_type": "code",
   "execution_count": 2,
   "id": "8363257b",
   "metadata": {},
   "outputs": [],
   "source": [
    "df = pd.read_csv('/Users/rushabhpatel/Desktop/Master/Enero/cnn/train.csv')"
   ]
  },
  {
   "cell_type": "code",
   "execution_count": 3,
   "id": "11362bb6",
   "metadata": {},
   "outputs": [
    {
     "data": {
      "text/html": [
       "<div>\n",
       "<style scoped>\n",
       "    .dataframe tbody tr th:only-of-type {\n",
       "        vertical-align: middle;\n",
       "    }\n",
       "\n",
       "    .dataframe tbody tr th {\n",
       "        vertical-align: top;\n",
       "    }\n",
       "\n",
       "    .dataframe thead th {\n",
       "        text-align: right;\n",
       "    }\n",
       "</style>\n",
       "<table border=\"1\" class=\"dataframe\">\n",
       "  <thead>\n",
       "    <tr style=\"text-align: right;\">\n",
       "      <th></th>\n",
       "      <th>id</th>\n",
       "      <th>article</th>\n",
       "      <th>highlights</th>\n",
       "    </tr>\n",
       "  </thead>\n",
       "  <tbody>\n",
       "    <tr>\n",
       "      <th>0</th>\n",
       "      <td>0001d1afc246a7964130f43ae940af6bc6c57f01</td>\n",
       "      <td>By . Associated Press . PUBLISHED: . 14:11 EST...</td>\n",
       "      <td>Bishop John Folda, of North Dakota, is taking ...</td>\n",
       "    </tr>\n",
       "    <tr>\n",
       "      <th>1</th>\n",
       "      <td>0002095e55fcbd3a2f366d9bf92a95433dc305ef</td>\n",
       "      <td>(CNN) -- Ralph Mata was an internal affairs li...</td>\n",
       "      <td>Criminal complaint: Cop used his role to help ...</td>\n",
       "    </tr>\n",
       "    <tr>\n",
       "      <th>2</th>\n",
       "      <td>00027e965c8264c35cc1bc55556db388da82b07f</td>\n",
       "      <td>A drunk driver who killed a young woman in a h...</td>\n",
       "      <td>Craig Eccleston-Todd, 27, had drunk at least t...</td>\n",
       "    </tr>\n",
       "    <tr>\n",
       "      <th>3</th>\n",
       "      <td>0002c17436637c4fe1837c935c04de47adb18e9a</td>\n",
       "      <td>(CNN) -- With a breezy sweep of his pen Presid...</td>\n",
       "      <td>Nina dos Santos says Europe must be ready to a...</td>\n",
       "    </tr>\n",
       "    <tr>\n",
       "      <th>4</th>\n",
       "      <td>0003ad6ef0c37534f80b55b4235108024b407f0b</td>\n",
       "      <td>Fleetwood are the only team still to have a 10...</td>\n",
       "      <td>Fleetwood top of League One after 2-0 win at S...</td>\n",
       "    </tr>\n",
       "  </tbody>\n",
       "</table>\n",
       "</div>"
      ],
      "text/plain": [
       "                                         id  \\\n",
       "0  0001d1afc246a7964130f43ae940af6bc6c57f01   \n",
       "1  0002095e55fcbd3a2f366d9bf92a95433dc305ef   \n",
       "2  00027e965c8264c35cc1bc55556db388da82b07f   \n",
       "3  0002c17436637c4fe1837c935c04de47adb18e9a   \n",
       "4  0003ad6ef0c37534f80b55b4235108024b407f0b   \n",
       "\n",
       "                                             article  \\\n",
       "0  By . Associated Press . PUBLISHED: . 14:11 EST...   \n",
       "1  (CNN) -- Ralph Mata was an internal affairs li...   \n",
       "2  A drunk driver who killed a young woman in a h...   \n",
       "3  (CNN) -- With a breezy sweep of his pen Presid...   \n",
       "4  Fleetwood are the only team still to have a 10...   \n",
       "\n",
       "                                          highlights  \n",
       "0  Bishop John Folda, of North Dakota, is taking ...  \n",
       "1  Criminal complaint: Cop used his role to help ...  \n",
       "2  Craig Eccleston-Todd, 27, had drunk at least t...  \n",
       "3  Nina dos Santos says Europe must be ready to a...  \n",
       "4  Fleetwood top of League One after 2-0 win at S...  "
      ]
     },
     "execution_count": 3,
     "metadata": {},
     "output_type": "execute_result"
    }
   ],
   "source": [
    "df.head()"
   ]
  },
  {
   "cell_type": "code",
   "execution_count": 4,
   "id": "c07b8a8f",
   "metadata": {},
   "outputs": [
    {
     "data": {
      "text/plain": [
       "(287113, 3)"
      ]
     },
     "execution_count": 4,
     "metadata": {},
     "output_type": "execute_result"
    }
   ],
   "source": [
    "df.shape"
   ]
  },
  {
   "cell_type": "code",
   "execution_count": 5,
   "id": "9f5114e1",
   "metadata": {},
   "outputs": [
    {
     "data": {
      "text/plain": [
       "Index(['id', 'article', 'highlights'], dtype='object')"
      ]
     },
     "execution_count": 5,
     "metadata": {},
     "output_type": "execute_result"
    }
   ],
   "source": [
    "df.columns"
   ]
  },
  {
   "cell_type": "code",
   "execution_count": 6,
   "id": "04d10229",
   "metadata": {},
   "outputs": [
    {
     "name": "stdout",
     "output_type": "stream",
     "text": [
      "<class 'pandas.core.frame.DataFrame'>\n",
      "RangeIndex: 287113 entries, 0 to 287112\n",
      "Data columns (total 3 columns):\n",
      " #   Column      Non-Null Count   Dtype \n",
      "---  ------      --------------   ----- \n",
      " 0   id          287113 non-null  object\n",
      " 1   article     287113 non-null  object\n",
      " 2   highlights  287113 non-null  object\n",
      "dtypes: object(3)\n",
      "memory usage: 6.6+ MB\n"
     ]
    }
   ],
   "source": [
    "df.info()    #No tenemos nulos"
   ]
  },
  {
   "cell_type": "code",
   "execution_count": 7,
   "id": "330ed358",
   "metadata": {},
   "outputs": [
    {
     "data": {
      "text/plain": [
       "id            287113\n",
       "article       287113\n",
       "highlights    287113\n",
       "dtype: int64"
      ]
     },
     "execution_count": 7,
     "metadata": {},
     "output_type": "execute_result"
    }
   ],
   "source": [
    "df.count()"
   ]
  },
  {
   "cell_type": "code",
   "execution_count": null,
   "id": "8c6c77a2",
   "metadata": {},
   "outputs": [],
   "source": []
  },
  {
   "cell_type": "code",
   "execution_count": 8,
   "id": "b09fc88d",
   "metadata": {},
   "outputs": [],
   "source": [
    "df2 = df.sample(frac=0.05, random_state=42).copy()\n"
   ]
  },
  {
   "cell_type": "code",
   "execution_count": 9,
   "id": "9f383068",
   "metadata": {},
   "outputs": [
    {
     "data": {
      "text/plain": [
       "id            14356\n",
       "article       14356\n",
       "highlights    14356\n",
       "dtype: int64"
      ]
     },
     "execution_count": 9,
     "metadata": {},
     "output_type": "execute_result"
    }
   ],
   "source": [
    "df2.count()"
   ]
  },
  {
   "cell_type": "code",
   "execution_count": 10,
   "id": "0487a6b0",
   "metadata": {},
   "outputs": [
    {
     "name": "stdout",
     "output_type": "stream",
     "text": [
      "<class 'pandas.core.frame.DataFrame'>\n",
      "Int64Index: 14356 entries, 272581 to 240397\n",
      "Data columns (total 3 columns):\n",
      " #   Column      Non-Null Count  Dtype \n",
      "---  ------      --------------  ----- \n",
      " 0   id          14356 non-null  object\n",
      " 1   article     14356 non-null  object\n",
      " 2   highlights  14356 non-null  object\n",
      "dtypes: object(3)\n",
      "memory usage: 448.6+ KB\n"
     ]
    }
   ],
   "source": [
    "df2.info()\n"
   ]
  },
  {
   "cell_type": "code",
   "execution_count": 11,
   "id": "2c357466",
   "metadata": {},
   "outputs": [],
   "source": [
    "df2['article_length'] = df2['article'].apply(len)"
   ]
  },
  {
   "cell_type": "code",
   "execution_count": 12,
   "id": "79641a08",
   "metadata": {},
   "outputs": [
    {
     "data": {
      "text/html": [
       "<div>\n",
       "<style scoped>\n",
       "    .dataframe tbody tr th:only-of-type {\n",
       "        vertical-align: middle;\n",
       "    }\n",
       "\n",
       "    .dataframe tbody tr th {\n",
       "        vertical-align: top;\n",
       "    }\n",
       "\n",
       "    .dataframe thead th {\n",
       "        text-align: right;\n",
       "    }\n",
       "</style>\n",
       "<table border=\"1\" class=\"dataframe\">\n",
       "  <thead>\n",
       "    <tr style=\"text-align: right;\">\n",
       "      <th></th>\n",
       "      <th>highlights</th>\n",
       "    </tr>\n",
       "  </thead>\n",
       "  <tbody>\n",
       "    <tr>\n",
       "      <th>0</th>\n",
       "      <td>Bishop John Folda, of North Dakota, is taking time off after being diagnosed .\\nHe contracted the infection through contaminated food in Italy .\\nChurch members in Fargo, Grand Forks and Jamestown could have been exposed .</td>\n",
       "    </tr>\n",
       "  </tbody>\n",
       "</table>\n",
       "</div>"
      ],
      "text/plain": [
       "                                                                                                                                                                                                                       highlights\n",
       "0  Bishop John Folda, of North Dakota, is taking time off after being diagnosed .\\nHe contracted the infection through contaminated food in Italy .\\nChurch members in Fargo, Grand Forks and Jamestown could have been exposed ."
      ]
     },
     "execution_count": 12,
     "metadata": {},
     "output_type": "execute_result"
    }
   ],
   "source": [
    "pd.set_option('display.max_colwidth', None)  # Muestra todo el contenido de una celda, sin truncar el texto\n",
    "\n",
    "df.iloc[[0],[2]]"
   ]
  },
  {
   "cell_type": "code",
   "execution_count": 13,
   "id": "24b366a1",
   "metadata": {},
   "outputs": [],
   "source": [
    "pd.reset_option('display.max_colwidth')\n"
   ]
  },
  {
   "cell_type": "code",
   "execution_count": null,
   "id": "cc2ea547",
   "metadata": {},
   "outputs": [],
   "source": []
  },
  {
   "cell_type": "markdown",
   "id": "8e44f72c",
   "metadata": {},
   "source": [
    "Preprocesamiento\n"
   ]
  },
  {
   "cell_type": "code",
   "execution_count": 14,
   "id": "c20c57cb",
   "metadata": {},
   "outputs": [],
   "source": [
    "stop_words = set(stopwords.words('english'))"
   ]
  },
  {
   "cell_type": "code",
   "execution_count": null,
   "id": "1a09b9f3",
   "metadata": {},
   "outputs": [],
   "source": []
  },
  {
   "cell_type": "code",
   "execution_count": 15,
   "id": "50cbed1c",
   "metadata": {},
   "outputs": [
    {
     "name": "stdout",
     "output_type": "stream",
     "text": [
      "                                                  article  \\\n",
      "272581  By . Mia De Graaf . Britons flocked to beaches...   \n",
      "772     A couple who weighed a combined 32st were sham...   \n",
      "171868  Video footage shows the heart stopping moment ...   \n",
      "63167   Istanbul, Turkey (CNN) -- About 250 people rac...   \n",
      "68522   By . Daily Mail Reporter . PUBLISHED: . 12:53 ...   \n",
      "\n",
      "                                     article_no_stopwords  \n",
      "272581  mia de graaf britons flocked beaches across so...  \n",
      "772     couple weighed combined 32st shamed slimming f...  \n",
      "171868  video footage shows heart stopping moment 17 y...  \n",
      "63167   istanbul turkey cnn 250 people raced across sy...  \n",
      "68522   daily mail reporter published est 3 january 20...  \n"
     ]
    }
   ],
   "source": [
    "def remove_stopwords(text):\n",
    "    word_tokens = word_tokenize(text.lower())  # Convertir a minúsculas\n",
    "    filtered_words = [word for word in word_tokens if word not in stop_words and word.isalnum()]\n",
    "    return ' '.join(filtered_words)\n",
    "\n",
    "df2['article_no_stopwords'] = df2['article'].apply(remove_stopwords)\n",
    "\n",
    "print(df2[['article', 'article_no_stopwords']].head())"
   ]
  },
  {
   "cell_type": "code",
   "execution_count": 16,
   "id": "d50d6034",
   "metadata": {},
   "outputs": [
    {
     "name": "stdout",
     "output_type": "stream",
     "text": [
      "                                               highlights  \\\n",
      "272581  People enjoyed temperatures of 17C at Brighton...   \n",
      "772     Couple started piling on pounds after the birt...   \n",
      "171868  A 17-year-old boy suffering lacerations to his...   \n",
      "63167   Syrians citizens hightail it to Turkey .\\nMost...   \n",
      "68522   The Xue Long had provided the helicopter that ...   \n",
      "\n",
      "                                  highlights_no_stopwords  \n",
      "272581  people enjoyed temperatures 17c brighton beach...  \n",
      "772     couple started piling pounds birth two childre...  \n",
      "171868  boy suffering lacerations left hand fingers sa...  \n",
      "63167   syrians citizens hightail turkey ethnic turkme...  \n",
      "68522   xue long provided helicopter helped rescue cre...  \n"
     ]
    }
   ],
   "source": [
    "df2['highlights_no_stopwords'] = df2['highlights'].apply(remove_stopwords)\n",
    "\n",
    "print(df2[['highlights', 'highlights_no_stopwords']].head())"
   ]
  },
  {
   "cell_type": "code",
   "execution_count": 17,
   "id": "1c5520c8",
   "metadata": {},
   "outputs": [
    {
     "data": {
      "text/html": [
       "<div>\n",
       "<style scoped>\n",
       "    .dataframe tbody tr th:only-of-type {\n",
       "        vertical-align: middle;\n",
       "    }\n",
       "\n",
       "    .dataframe tbody tr th {\n",
       "        vertical-align: top;\n",
       "    }\n",
       "\n",
       "    .dataframe thead th {\n",
       "        text-align: right;\n",
       "    }\n",
       "</style>\n",
       "<table border=\"1\" class=\"dataframe\">\n",
       "  <thead>\n",
       "    <tr style=\"text-align: right;\">\n",
       "      <th></th>\n",
       "      <th>id</th>\n",
       "      <th>article</th>\n",
       "      <th>highlights</th>\n",
       "      <th>article_length</th>\n",
       "      <th>article_no_stopwords</th>\n",
       "      <th>highlights_no_stopwords</th>\n",
       "    </tr>\n",
       "  </thead>\n",
       "  <tbody>\n",
       "    <tr>\n",
       "      <th>272581</th>\n",
       "      <td>ed0fed726929c1eeabe6c390e47128dbb7d7a055</td>\n",
       "      <td>By . Mia De Graaf . Britons flocked to beaches...</td>\n",
       "      <td>People enjoyed temperatures of 17C at Brighton...</td>\n",
       "      <td>3735</td>\n",
       "      <td>mia de graaf britons flocked beaches across so...</td>\n",
       "      <td>people enjoyed temperatures 17c brighton beach...</td>\n",
       "    </tr>\n",
       "    <tr>\n",
       "      <th>772</th>\n",
       "      <td>023cd84001b33aed4ff0f3f5ecb0fdd2151cf543</td>\n",
       "      <td>A couple who weighed a combined 32st were sham...</td>\n",
       "      <td>Couple started piling on pounds after the birt...</td>\n",
       "      <td>3638</td>\n",
       "      <td>couple weighed combined 32st shamed slimming f...</td>\n",
       "      <td>couple started piling pounds birth two childre...</td>\n",
       "    </tr>\n",
       "    <tr>\n",
       "      <th>171868</th>\n",
       "      <td>6a70a0d8d3ed365fe1df6d35f1587a8b9b298618</td>\n",
       "      <td>Video footage shows the heart stopping moment ...</td>\n",
       "      <td>A 17-year-old boy suffering lacerations to his...</td>\n",
       "      <td>4880</td>\n",
       "      <td>video footage shows heart stopping moment 17 y...</td>\n",
       "      <td>boy suffering lacerations left hand fingers sa...</td>\n",
       "    </tr>\n",
       "    <tr>\n",
       "      <th>63167</th>\n",
       "      <td>b37204c13ea38b511265e41ac69fb12acfb63f85</td>\n",
       "      <td>Istanbul, Turkey (CNN) -- About 250 people rac...</td>\n",
       "      <td>Syrians citizens hightail it to Turkey .\\nMost...</td>\n",
       "      <td>1484</td>\n",
       "      <td>istanbul turkey cnn 250 people raced across sy...</td>\n",
       "      <td>syrians citizens hightail turkey ethnic turkme...</td>\n",
       "    </tr>\n",
       "    <tr>\n",
       "      <th>68522</th>\n",
       "      <td>c24e5805afd5145bc48410e876db91d44a06be5e</td>\n",
       "      <td>By . Daily Mail Reporter . PUBLISHED: . 12:53 ...</td>\n",
       "      <td>The Xue Long had provided the helicopter that ...</td>\n",
       "      <td>6430</td>\n",
       "      <td>daily mail reporter published est 3 january 20...</td>\n",
       "      <td>xue long provided helicopter helped rescue cre...</td>\n",
       "    </tr>\n",
       "  </tbody>\n",
       "</table>\n",
       "</div>"
      ],
      "text/plain": [
       "                                              id  \\\n",
       "272581  ed0fed726929c1eeabe6c390e47128dbb7d7a055   \n",
       "772     023cd84001b33aed4ff0f3f5ecb0fdd2151cf543   \n",
       "171868  6a70a0d8d3ed365fe1df6d35f1587a8b9b298618   \n",
       "63167   b37204c13ea38b511265e41ac69fb12acfb63f85   \n",
       "68522   c24e5805afd5145bc48410e876db91d44a06be5e   \n",
       "\n",
       "                                                  article  \\\n",
       "272581  By . Mia De Graaf . Britons flocked to beaches...   \n",
       "772     A couple who weighed a combined 32st were sham...   \n",
       "171868  Video footage shows the heart stopping moment ...   \n",
       "63167   Istanbul, Turkey (CNN) -- About 250 people rac...   \n",
       "68522   By . Daily Mail Reporter . PUBLISHED: . 12:53 ...   \n",
       "\n",
       "                                               highlights  article_length  \\\n",
       "272581  People enjoyed temperatures of 17C at Brighton...            3735   \n",
       "772     Couple started piling on pounds after the birt...            3638   \n",
       "171868  A 17-year-old boy suffering lacerations to his...            4880   \n",
       "63167   Syrians citizens hightail it to Turkey .\\nMost...            1484   \n",
       "68522   The Xue Long had provided the helicopter that ...            6430   \n",
       "\n",
       "                                     article_no_stopwords  \\\n",
       "272581  mia de graaf britons flocked beaches across so...   \n",
       "772     couple weighed combined 32st shamed slimming f...   \n",
       "171868  video footage shows heart stopping moment 17 y...   \n",
       "63167   istanbul turkey cnn 250 people raced across sy...   \n",
       "68522   daily mail reporter published est 3 january 20...   \n",
       "\n",
       "                                  highlights_no_stopwords  \n",
       "272581  people enjoyed temperatures 17c brighton beach...  \n",
       "772     couple started piling pounds birth two childre...  \n",
       "171868  boy suffering lacerations left hand fingers sa...  \n",
       "63167   syrians citizens hightail turkey ethnic turkme...  \n",
       "68522   xue long provided helicopter helped rescue cre...  "
      ]
     },
     "execution_count": 17,
     "metadata": {},
     "output_type": "execute_result"
    }
   ],
   "source": [
    "df2.head()"
   ]
  },
  {
   "cell_type": "code",
   "execution_count": 18,
   "id": "090cbde4",
   "metadata": {},
   "outputs": [
    {
     "data": {
      "text/plain": [
       "272581    mia de graaf britons flocked beaches across so...\n",
       "772       couple weighed combined 32st shamed slimming f...\n",
       "171868    video footage shows heart stopping moment 17 y...\n",
       "63167     istanbul turkey cnn 250 people raced across sy...\n",
       "68522     daily mail reporter published est 3 january 20...\n",
       "                                ...                        \n",
       "276742    al qaeda planned hijack cruise ships post foot...\n",
       "108480    cnn circus producer said friday animal rights ...\n",
       "53210     new delhi india cnn india successfully launche...\n",
       "204009    clear action taken oxford union president ben ...\n",
       "240397    unlike men going dean kremer go get drunk mate...\n",
       "Name: article_no_stopwords, Length: 14356, dtype: object"
      ]
     },
     "execution_count": 18,
     "metadata": {},
     "output_type": "execute_result"
    }
   ],
   "source": [
    "df2.article_no_stopwords"
   ]
  },
  {
   "cell_type": "code",
   "execution_count": 19,
   "id": "b8b7cf75",
   "metadata": {},
   "outputs": [],
   "source": [
    "lista = []\n",
    "\n",
    "for a in df2.article_no_stopwords:\n",
    "    lista.append(a)\n",
    "    "
   ]
  },
  {
   "cell_type": "code",
   "execution_count": 20,
   "id": "0d57a1ae",
   "metadata": {},
   "outputs": [],
   "source": [
    "lista2 = []\n",
    "for a in df2.highlights_no_stopwords:\n",
    "    lista2.append(a)"
   ]
  },
  {
   "cell_type": "code",
   "execution_count": 21,
   "id": "d98b9036",
   "metadata": {},
   "outputs": [
    {
     "data": {
      "text/plain": [
       "14356"
      ]
     },
     "execution_count": 21,
     "metadata": {},
     "output_type": "execute_result"
    }
   ],
   "source": [
    "len(lista)"
   ]
  },
  {
   "cell_type": "code",
   "execution_count": 22,
   "id": "b2300856",
   "metadata": {},
   "outputs": [
    {
     "data": {
      "text/plain": [
       "14356"
      ]
     },
     "execution_count": 22,
     "metadata": {},
     "output_type": "execute_result"
    }
   ],
   "source": [
    "len(lista2)"
   ]
  },
  {
   "cell_type": "code",
   "execution_count": null,
   "id": "78e714a4",
   "metadata": {},
   "outputs": [],
   "source": []
  },
  {
   "cell_type": "code",
   "execution_count": null,
   "id": "50da4e73",
   "metadata": {},
   "outputs": [],
   "source": []
  },
  {
   "cell_type": "code",
   "execution_count": 25,
   "id": "32572c42",
   "metadata": {},
   "outputs": [],
   "source": [
    "texto_completo = \" \".join(lista)\n",
    "\n",
    "\n",
    "tabla_traduccion = str.maketrans('', '', string.punctuation)\n",
    "palabras_limpias = [palabra.translate(tabla_traduccion).lower() for palabra in texto_completo.split()]\n",
    "\n",
    "frecuencia = Counter(palabras_limpias)\n"
   ]
  },
  {
   "cell_type": "code",
   "execution_count": 36,
   "id": "a5eb7fa6",
   "metadata": {},
   "outputs": [
    {
     "data": {
      "text/plain": [
       "425596"
      ]
     },
     "execution_count": 36,
     "metadata": {},
     "output_type": "execute_result"
    }
   ],
   "source": [
    "len(palabras_limpias)"
   ]
  },
  {
   "cell_type": "code",
   "execution_count": 26,
   "id": "fae4f5d2",
   "metadata": {},
   "outputs": [
    {
     "name": "stdout",
     "output_type": "stream",
     "text": [
      "[('said', 65616), ('one', 23208), ('would', 19225), ('also', 17845), ('people', 17618), ('new', 16892), ('two', 15677), ('last', 14786), ('told', 14482), ('time', 14180), ('police', 13783), ('could', 13728), ('first', 13474), ('years', 13370), ('year', 12552), ('mr', 12164), ('like', 11183), ('home', 10772), ('left', 10048), ('world', 10025), ('back', 9976), ('family', 9518), ('get', 9184), ('three', 8901), ('made', 8862), ('cnn', 8823), ('found', 8502), ('day', 8440), ('right', 8175), ('says', 7889), ('may', 7718), ('court', 7637), ('around', 7617), ('even', 7579), ('many', 7435), ('man', 7150), ('make', 7110), ('since', 7082), ('according', 7076), ('life', 7048), ('children', 7013), ('way', 6924), ('take', 6743), ('going', 6672), ('still', 6531), ('house', 6478), ('city', 6476), ('say', 6418), ('see', 6356), ('week', 6347)]\n"
     ]
    }
   ],
   "source": [
    "print(frecuencia.most_common(50)) \n"
   ]
  },
  {
   "cell_type": "code",
   "execution_count": 27,
   "id": "6962ce07",
   "metadata": {},
   "outputs": [],
   "source": [
    "texto_completo2 = \" \".join(lista2)\n",
    "\n",
    "\n",
    "tabla_traduccion = str.maketrans('', '', string.punctuation)\n",
    "palabras_limpias = [palabra.translate(tabla_traduccion).lower() for palabra in texto_completo2.split()]\n",
    "\n",
    "frecuencia2 = Counter(palabras_limpias)\n",
    "\n",
    "\n"
   ]
  },
  {
   "cell_type": "code",
   "execution_count": 28,
   "id": "d1f29d4d",
   "metadata": {},
   "outputs": [
    {
     "data": {
      "text/plain": [
       "[('says', 3525),\n",
       " ('new', 2224),\n",
       " ('said', 1966),\n",
       " ('police', 1487),\n",
       " ('two', 1435),\n",
       " ('one', 1425),\n",
       " ('also', 1243),\n",
       " ('years', 1186),\n",
       " ('last', 1138),\n",
       " ('could', 1103),\n",
       " ('first', 1103),\n",
       " ('found', 1090),\n",
       " ('say', 1055),\n",
       " ('people', 1031),\n",
       " ('year', 1017),\n",
       " ('home', 961),\n",
       " ('world', 938),\n",
       " ('three', 905),\n",
       " ('would', 796),\n",
       " ('family', 717),\n",
       " ('man', 694),\n",
       " ('since', 683),\n",
       " ('made', 681),\n",
       " ('back', 659),\n",
       " ('time', 657),\n",
       " ('former', 647),\n",
       " ('children', 641),\n",
       " ('court', 631),\n",
       " ('city', 603),\n",
       " ('died', 597),\n",
       " ('four', 595),\n",
       " ('week', 581),\n",
       " ('president', 568),\n",
       " ('claims', 554),\n",
       " ('death', 548),\n",
       " ('told', 543),\n",
       " ('day', 541),\n",
       " ('show', 539),\n",
       " ('may', 524),\n",
       " ('mother', 524),\n",
       " ('obama', 524),\n",
       " ('left', 523),\n",
       " ('house', 522),\n",
       " ('used', 521),\n",
       " ('killed', 518),\n",
       " ('women', 503),\n",
       " ('five', 478),\n",
       " ('set', 471),\n",
       " ('united', 470),\n",
       " ('hospital', 467)]"
      ]
     },
     "execution_count": 28,
     "metadata": {},
     "output_type": "execute_result"
    }
   ],
   "source": [
    "frecuencia2.most_common(50)"
   ]
  },
  {
   "cell_type": "markdown",
   "id": "e173f882",
   "metadata": {},
   "source": [
    "\n"
   ]
  },
  {
   "cell_type": "code",
   "execution_count": null,
   "id": "11cf1b71",
   "metadata": {},
   "outputs": [],
   "source": []
  },
  {
   "cell_type": "code",
   "execution_count": null,
   "id": "0260fe88",
   "metadata": {},
   "outputs": [],
   "source": []
  },
  {
   "cell_type": "code",
   "execution_count": 33,
   "id": "c20f67db",
   "metadata": {},
   "outputs": [
    {
     "name": "stderr",
     "output_type": "stream",
     "text": [
      "/Users/rushabhpatel/anaconda3/lib/python3.11/site-packages/sklearn/cluster/_kmeans.py:1412: FutureWarning: The default value of `n_init` will change from 10 to 'auto' in 1.4. Set the value of `n_init` explicitly to suppress the warning\n",
      "  super()._check_params_vs_input(X, default_n_init=10)\n"
     ]
    }
   ],
   "source": [
    "import numpy as np\n",
    "from sklearn.feature_extraction.text import TfidfVectorizer\n",
    "from sklearn.cluster import KMeans\n",
    "import matplotlib.pyplot as plt\n",
    "from sklearn.manifold import TSNE\n",
    "vectorizer = TfidfVectorizer(stop_words='english')\n",
    "X = vectorizer.fit_transform(lista2)\n",
    "num_clusters = 5  # Ajusta este valor según tus necesidades\n",
    "kmeans = KMeans(n_clusters=num_clusters, random_state=42)\n",
    "kmeans.fit(X)\n",
    "\n",
    "clusters = kmeans.predict(X)\n",
    "\n",
    "\n",
    "## Visualización\n",
    "#tsne = TSNE(n_components=2, random_state=42)\n",
    "#X_tsne = tsne.fit_transform(X.toarray())\n",
    "#\n",
    "## Crear gráfico de dispersión\n",
    "#plt.figure(figsize=(8, 6))\n",
    "#plt.scatter(X_tsne[:, 0], X_tsne[:, 1], c=clusters, cmap='viridis')\n",
    "#plt.title(\"Clusterización de Artículos\")\n",
    "#plt.xlabel(\"t-SNE 1\")\n",
    "#plt.ylabel(\"t-SNE 2\")\n",
    "#plt.colorbar(label='Cluster')\n",
    "#plt.show()\n"
   ]
  },
  {
   "cell_type": "code",
   "execution_count": 40,
   "id": "24c02736",
   "metadata": {},
   "outputs": [],
   "source": [
    "df2[\"cluster\"] = clusters"
   ]
  },
  {
   "cell_type": "code",
   "execution_count": 41,
   "id": "25814cb3",
   "metadata": {},
   "outputs": [
    {
     "data": {
      "text/plain": [
       "array([2, 2, 2, ..., 2, 0, 2], dtype=int32)"
      ]
     },
     "execution_count": 41,
     "metadata": {},
     "output_type": "execute_result"
    }
   ],
   "source": [
    "clusters"
   ]
  },
  {
   "cell_type": "code",
   "execution_count": 43,
   "id": "492d9fe5",
   "metadata": {},
   "outputs": [
    {
     "data": {
      "text/html": [
       "<div>\n",
       "<style scoped>\n",
       "    .dataframe tbody tr th:only-of-type {\n",
       "        vertical-align: middle;\n",
       "    }\n",
       "\n",
       "    .dataframe tbody tr th {\n",
       "        vertical-align: top;\n",
       "    }\n",
       "\n",
       "    .dataframe thead th {\n",
       "        text-align: right;\n",
       "    }\n",
       "</style>\n",
       "<table border=\"1\" class=\"dataframe\">\n",
       "  <thead>\n",
       "    <tr style=\"text-align: right;\">\n",
       "      <th></th>\n",
       "      <th>id</th>\n",
       "      <th>article</th>\n",
       "      <th>highlights</th>\n",
       "      <th>article_length</th>\n",
       "      <th>article_no_stopwords</th>\n",
       "      <th>highlights_no_stopwords</th>\n",
       "      <th>cluster</th>\n",
       "    </tr>\n",
       "  </thead>\n",
       "  <tbody>\n",
       "    <tr>\n",
       "      <th>272581</th>\n",
       "      <td>ed0fed726929c1eeabe6c390e47128dbb7d7a055</td>\n",
       "      <td>By . Mia De Graaf . Britons flocked to beaches...</td>\n",
       "      <td>People enjoyed temperatures of 17C at Brighton...</td>\n",
       "      <td>3735</td>\n",
       "      <td>mia de graaf britons flocked beaches across so...</td>\n",
       "      <td>people enjoyed temperatures 17c brighton beach...</td>\n",
       "      <td>2</td>\n",
       "    </tr>\n",
       "    <tr>\n",
       "      <th>772</th>\n",
       "      <td>023cd84001b33aed4ff0f3f5ecb0fdd2151cf543</td>\n",
       "      <td>A couple who weighed a combined 32st were sham...</td>\n",
       "      <td>Couple started piling on pounds after the birt...</td>\n",
       "      <td>3638</td>\n",
       "      <td>couple weighed combined 32st shamed slimming f...</td>\n",
       "      <td>couple started piling pounds birth two childre...</td>\n",
       "      <td>2</td>\n",
       "    </tr>\n",
       "    <tr>\n",
       "      <th>171868</th>\n",
       "      <td>6a70a0d8d3ed365fe1df6d35f1587a8b9b298618</td>\n",
       "      <td>Video footage shows the heart stopping moment ...</td>\n",
       "      <td>A 17-year-old boy suffering lacerations to his...</td>\n",
       "      <td>4880</td>\n",
       "      <td>video footage shows heart stopping moment 17 y...</td>\n",
       "      <td>boy suffering lacerations left hand fingers sa...</td>\n",
       "      <td>2</td>\n",
       "    </tr>\n",
       "    <tr>\n",
       "      <th>63167</th>\n",
       "      <td>b37204c13ea38b511265e41ac69fb12acfb63f85</td>\n",
       "      <td>Istanbul, Turkey (CNN) -- About 250 people rac...</td>\n",
       "      <td>Syrians citizens hightail it to Turkey .\\nMost...</td>\n",
       "      <td>1484</td>\n",
       "      <td>istanbul turkey cnn 250 people raced across sy...</td>\n",
       "      <td>syrians citizens hightail turkey ethnic turkme...</td>\n",
       "      <td>4</td>\n",
       "    </tr>\n",
       "    <tr>\n",
       "      <th>68522</th>\n",
       "      <td>c24e5805afd5145bc48410e876db91d44a06be5e</td>\n",
       "      <td>By . Daily Mail Reporter . PUBLISHED: . 12:53 ...</td>\n",
       "      <td>The Xue Long had provided the helicopter that ...</td>\n",
       "      <td>6430</td>\n",
       "      <td>daily mail reporter published est 3 january 20...</td>\n",
       "      <td>xue long provided helicopter helped rescue cre...</td>\n",
       "      <td>2</td>\n",
       "    </tr>\n",
       "  </tbody>\n",
       "</table>\n",
       "</div>"
      ],
      "text/plain": [
       "                                              id  \\\n",
       "272581  ed0fed726929c1eeabe6c390e47128dbb7d7a055   \n",
       "772     023cd84001b33aed4ff0f3f5ecb0fdd2151cf543   \n",
       "171868  6a70a0d8d3ed365fe1df6d35f1587a8b9b298618   \n",
       "63167   b37204c13ea38b511265e41ac69fb12acfb63f85   \n",
       "68522   c24e5805afd5145bc48410e876db91d44a06be5e   \n",
       "\n",
       "                                                  article  \\\n",
       "272581  By . Mia De Graaf . Britons flocked to beaches...   \n",
       "772     A couple who weighed a combined 32st were sham...   \n",
       "171868  Video footage shows the heart stopping moment ...   \n",
       "63167   Istanbul, Turkey (CNN) -- About 250 people rac...   \n",
       "68522   By . Daily Mail Reporter . PUBLISHED: . 12:53 ...   \n",
       "\n",
       "                                               highlights  article_length  \\\n",
       "272581  People enjoyed temperatures of 17C at Brighton...            3735   \n",
       "772     Couple started piling on pounds after the birt...            3638   \n",
       "171868  A 17-year-old boy suffering lacerations to his...            4880   \n",
       "63167   Syrians citizens hightail it to Turkey .\\nMost...            1484   \n",
       "68522   The Xue Long had provided the helicopter that ...            6430   \n",
       "\n",
       "                                     article_no_stopwords  \\\n",
       "272581  mia de graaf britons flocked beaches across so...   \n",
       "772     couple weighed combined 32st shamed slimming f...   \n",
       "171868  video footage shows heart stopping moment 17 y...   \n",
       "63167   istanbul turkey cnn 250 people raced across sy...   \n",
       "68522   daily mail reporter published est 3 january 20...   \n",
       "\n",
       "                                  highlights_no_stopwords  cluster  \n",
       "272581  people enjoyed temperatures 17c brighton beach...        2  \n",
       "772     couple started piling pounds birth two childre...        2  \n",
       "171868  boy suffering lacerations left hand fingers sa...        2  \n",
       "63167   syrians citizens hightail turkey ethnic turkme...        4  \n",
       "68522   xue long provided helicopter helped rescue cre...        2  "
      ]
     },
     "execution_count": 43,
     "metadata": {},
     "output_type": "execute_result"
    }
   ],
   "source": [
    "df2.head()"
   ]
  },
  {
   "cell_type": "code",
   "execution_count": 54,
   "id": "38813e7f",
   "metadata": {},
   "outputs": [
    {
     "name": "stdout",
     "output_type": "stream",
     "text": [
      "Artículos del Cluster 2:\n",
      "\n",
      "Artículo 1 del Cluster 2:\n",
      "syrians citizens hightail turkey ethnic turkmens official says turkey wonders tip iceberg\n",
      "\n",
      "================================================================================\n",
      "\n",
      "\n",
      "Artículo 2 del Cluster 2:\n",
      "lil wayne lyrics include pepsico calls offensive reference emmett till till black youth chicago murdered mississippi 1955 publicist rapper label says artist company parted ways amicably\n",
      "\n",
      "================================================================================\n",
      "\n",
      "\n",
      "Artículo 3 del Cluster 2:\n",
      "ellis cashmore professor staffordshire university says little proof olympic games create sporting legacy academic said sport school children fun competitive\n",
      "\n",
      "================================================================================\n",
      "\n",
      "\n",
      "Artículo 4 del Cluster 2:\n",
      "adults children cambridge lecturer says lack play stops normal development\n",
      "\n",
      "================================================================================\n",
      "\n",
      "\n",
      "Artículo 5 del Cluster 2:\n",
      "wide sinkhole creates millions damages national corvette museum cave says museum spokeswoman engineers say sky dome suffered structural damage cost damaged cars substantial museum director says\n",
      "\n",
      "================================================================================\n",
      "\n",
      "\n",
      "Artículo 6 del Cluster 2:\n",
      "7 killed 20 hurt saturday muslim protesters set fire houses christian area protesting alleged desecration quran christian wedding federal official says investigation determined desecration quran 50 houses burned 100 looted violence\n",
      "\n",
      "================================================================================\n",
      "\n",
      "\n",
      "Artículo 7 del Cluster 2:\n",
      "executive director program says access syria serious worry program 80 international staffers 300 national staffers supporting region ertharin cousin praises aggressive planning averted disaster niger\n",
      "\n",
      "================================================================================\n",
      "\n",
      "\n",
      "Artículo 8 del Cluster 2:\n",
      "french ministry defense says captured coast kenya navy tracked pirates overnight attacked ship called safmarine asia helicopter launched frigate tuesday night 11 captured wednesday\n",
      "\n",
      "================================================================================\n",
      "\n",
      "\n",
      "Artículo 9 del Cluster 2:\n",
      "study astronomers says moon position may role titanic sinking meg urry unusual lineup earth sun moon january 1912 would boosted tide says higher tides could floated icebergs route oceanliner urry theory true evidence extreme high tide\n",
      "\n",
      "================================================================================\n",
      "\n",
      "\n",
      "Artículo 10 del Cluster 2:\n",
      "six men break factory friday night take trophies christian horner says damage caused horner claims red bull may make site less accessible fans\n",
      "\n",
      "================================================================================\n",
      "\n"
     ]
    }
   ],
   "source": [
    "articulos_cluster_0 = [lista2[i] for i in range(len(lista2)) if clusters[i] == 4]\n",
    "\n",
    "print(\"Artículos del Cluster 2:\")\n",
    "for i, articulo in enumerate(articulos_cluster_0[:10]):  # Limitar a 3 artículos\n",
    "    print(f\"\\nArtículo {i+1} del Cluster 2:\")\n",
    "    print(articulo)\n",
    "    print(\"\\n\" + \"=\"*80 + \"\\n\")\n"
   ]
  },
  {
   "cell_type": "code",
   "execution_count": null,
   "id": "a15402ab",
   "metadata": {},
   "outputs": [],
   "source": []
  },
  {
   "cell_type": "code",
   "execution_count": 38,
   "id": "f68f991d",
   "metadata": {},
   "outputs": [
    {
     "name": "stdout",
     "output_type": "stream",
     "text": [
      "(14356, 500)\n"
     ]
    }
   ],
   "source": [
    "from keras.preprocessing.text import Tokenizer\n",
    "from keras.preprocessing.sequence import pad_sequences\n",
    "\n",
    "tokenizer = Tokenizer(num_words=5000, lower=True)\n",
    "tokenizer.fit_on_texts(df2['article_no_stopwords'])\n",
    "X = tokenizer.texts_to_sequences(df2['article_no_stopwords'])\n",
    "\n",
    "X_pad = pad_sequences(X, maxlen=500)  \n",
    "\n",
    "print(X_pad.shape)  \n"
   ]
  },
  {
   "cell_type": "code",
   "execution_count": 46,
   "id": "9d6bfa72",
   "metadata": {},
   "outputs": [],
   "source": [
    "from sklearn.preprocessing import LabelEncoder\n",
    "\n",
    "encoder = LabelEncoder()\n",
    "y = encoder.fit_transform(df2['cluster'])  \n"
   ]
  },
  {
   "cell_type": "code",
   "execution_count": null,
   "id": "4904605a",
   "metadata": {},
   "outputs": [],
   "source": []
  },
  {
   "cell_type": "code",
   "execution_count": 47,
   "id": "2bdb9b79",
   "metadata": {},
   "outputs": [
    {
     "name": "stdout",
     "output_type": "stream",
     "text": [
      "Epoch 1/2\n",
      "180/180 [==============================] - 249s 1s/step - loss: 1.0573 - accuracy: 0.6228 - val_loss: 0.8894 - val_accuracy: 0.7093\n",
      "Epoch 2/2\n",
      "180/180 [==============================] - 233s 1s/step - loss: 0.7975 - accuracy: 0.7066 - val_loss: 0.9080 - val_accuracy: 0.6807\n"
     ]
    },
    {
     "data": {
      "text/plain": [
       "<keras.src.callbacks.History at 0x184136a50>"
      ]
     },
     "execution_count": 47,
     "metadata": {},
     "output_type": "execute_result"
    }
   ],
   "source": [
    "\n",
    "\n",
    "model = Sequential()\n",
    "model.add(Embedding(input_dim=5000, output_dim=100, input_length=X_pad.shape[1]))\n",
    "model.add(SpatialDropout1D(0.2))  \n",
    "model.add(LSTM(100, dropout=0.2, recurrent_dropout=0.2))  \n",
    "model.add(Dense(5, activation='softmax')) \n",
    "\n",
    "\n",
    "model.compile(loss='sparse_categorical_crossentropy', optimizer='adam', metrics=['accuracy'])\n",
    "\n",
    "\n",
    "model.fit(X_pad, y, epochs=2, batch_size=64, validation_split=0.2)\n"
   ]
  },
  {
   "cell_type": "code",
   "execution_count": 48,
   "id": "9b4c1eeb",
   "metadata": {},
   "outputs": [
    {
     "name": "stdout",
     "output_type": "stream",
     "text": [
      "449/449 [==============================] - 71s 156ms/step\n"
     ]
    }
   ],
   "source": [
    "predictions = model.predict(X_pad)"
   ]
  },
  {
   "cell_type": "code",
   "execution_count": 49,
   "id": "4a4933a4",
   "metadata": {},
   "outputs": [
    {
     "name": "stdout",
     "output_type": "stream",
     "text": [
      "[[3.5164814e-02 1.3759515e-02 8.7905252e-01 6.0504554e-03 6.5972760e-02]\n",
      " [4.4150401e-02 1.2082445e-02 8.5699844e-01 4.0914360e-03 8.2677349e-02]\n",
      " [2.0323366e-01 1.7541749e-02 6.4715028e-01 8.2164854e-03 1.2385779e-01]\n",
      " [3.3275034e-02 1.0761462e-02 8.4555060e-01 2.5212297e-03 1.0789163e-01]\n",
      " [1.3024342e-02 4.2038998e-03 9.4950134e-01 1.1582742e-03 3.2112204e-02]\n",
      " [4.8852339e-03 1.4576508e-02 1.0189760e-01 8.6945975e-01 9.1809379e-03]\n",
      " [2.4562314e-02 6.8666590e-03 9.1052127e-01 1.8926674e-03 5.6156993e-02]\n",
      " [1.0393081e-02 2.6616666e-03 9.6192878e-01 6.2389864e-04 2.4392383e-02]\n",
      " [4.0537216e-02 1.8446546e-02 8.3053648e-01 6.6429796e-03 1.0383679e-01]\n",
      " [1.2565650e-01 2.5775459e-02 6.0685039e-01 7.5793457e-03 2.3413821e-01]]\n"
     ]
    }
   ],
   "source": [
    "print(predictions[:10])  # Muestra las primeras 10 predicciones\n"
   ]
  },
  {
   "cell_type": "code",
   "execution_count": 50,
   "id": "5445a087",
   "metadata": {},
   "outputs": [
    {
     "data": {
      "text/plain": [
       "array([2, 2, 2, 2, 2, 3, 2, 2, 2, 2])"
      ]
     },
     "execution_count": 50,
     "metadata": {},
     "output_type": "execute_result"
    }
   ],
   "source": [
    "import numpy as np\n",
    "\n",
    "np.argmax(predictions[:10],axis = 1)\n"
   ]
  },
  {
   "cell_type": "code",
   "execution_count": null,
   "id": "060ad6ec",
   "metadata": {},
   "outputs": [],
   "source": []
  }
 ],
 "metadata": {
  "kernelspec": {
   "display_name": "Python 3 (ipykernel)",
   "language": "python",
   "name": "python3"
  },
  "language_info": {
   "codemirror_mode": {
    "name": "ipython",
    "version": 3
   },
   "file_extension": ".py",
   "mimetype": "text/x-python",
   "name": "python",
   "nbconvert_exporter": "python",
   "pygments_lexer": "ipython3",
   "version": "3.11.4"
  }
 },
 "nbformat": 4,
 "nbformat_minor": 5
}
